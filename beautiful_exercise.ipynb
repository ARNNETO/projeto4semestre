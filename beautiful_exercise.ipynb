{
 "cells": [
  {
   "cell_type": "code",
   "execution_count": 6,
   "metadata": {},
   "outputs": [],
   "source": [
    "# Importa bibliteca\n",
    "import requests\n",
    "from bs4 import BeautifulSoup\n",
    "import os\n",
    "import zipfile\n",
    "import pandas as pd\n",
    "\n",
    "# Path para exportas os arquivos\n",
    "output_dir = \"/home/neto/Documentos/Ciencia de dados/4_SEMESTRE/ProjetoDeBlocos/ProjetoDeBloco/Projeto/data/\"\n",
    "os.makedirs(output_dir, exist_ok=True)\n",
    "\n",
    "# URL da página que contém os links\n",
    "url = \"https://portal.inmet.gov.br/dadoshistoricos\"\n",
    "\n",
    "# Baixa o conteúdo da página\n",
    "response = requests.get(url)\n",
    "soup = BeautifulSoup(response.text, 'html.parser')\n",
    "\n",
    "# Encontra os links com começo padrão \n",
    "base_url = \"https://portal.inmet.gov.br\"\n",
    "links = soup.find_all(\"a\", href=lambda href: href and href.startswith(\"/uploads/dadoshistoricos/\") and href.endswith(\".zip\"))\n",
    "\n",
    "# Baixa e extrai os arquivos\n",
    "for link in links:\n",
    "    file_url = base_url + link['href']\n",
    "    file_name = os.path.join(output_dir, link['href'].split(\"/\")[-1])\n",
    "    \n",
    "    # Baixa o arquivo .zip\n",
    "    print(f\"Baixando {file_url}...\")\n",
    "    response = requests.get(file_url)\n",
    "    with open(file_name, 'wb') as file:\n",
    "        file.write(response.content)\n",
    "    \n",
    "    # Extrai o arquivo .zip\n",
    "    with zipfile.ZipFile(file_name, 'r') as zip_ref:\n",
    "        zip_ref.extractall(output_dir)\n",
    "    \n",
    "    # Converte arquivos emCSV\n",
    "    extracted_files = zip_ref.namelist()\n",
    "    for extracted_file in extracted_files:\n",
    "        if extracted_file.endswith('.xls') or extracted_file.endswith('.xlsx'):\n",
    "            excel_path = os.path.join(output_dir, extracted_file)\n",
    "            df = pd.read_excel(excel_path)\n",
    "\n",
    "            csv_path = os.path.splitext(excel_path)[0] + '.csv'\n",
    "            df.to_csv(csv_path, index=False)\n",
    "            print(f\"Convertido {extracted_file} para {csv_path}\")\n",
    "\n",
    "    # Remove os arquivos .zip\n",
    "    os.remove(file_name)\n"
   ]
  }
 ],
 "metadata": {
  "kernelspec": {
   "display_name": "pb_4_sem",
   "language": "python",
   "name": "python3"
  },
  "language_info": {
   "codemirror_mode": {
    "name": "ipython",
    "version": 3
   },
   "file_extension": ".py",
   "mimetype": "text/x-python",
   "name": "python",
   "nbconvert_exporter": "python",
   "pygments_lexer": "ipython3",
   "version": "3.12.4"
  }
 },
 "nbformat": 4,
 "nbformat_minor": 2
}
